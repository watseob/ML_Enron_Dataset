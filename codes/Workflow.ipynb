{
 "cells": [
  {
   "cell_type": "markdown",
   "metadata": {},
   "source": [
    "# Enron Dataset\n",
    "\n",
    "##  Data Cleaning\n",
    "\n",
    "####  Load dataset"
   ]
  },
  {
   "cell_type": "code",
   "execution_count": 1,
   "metadata": {
    "collapsed": false
   },
   "outputs": [
    {
     "name": "stderr",
     "output_type": "stream",
     "text": [
      "/Users/watseob/anaconda/envs/gl-env/lib/python2.7/site-packages/sklearn/cross_validation.py:44: DeprecationWarning: This module was deprecated in version 0.18 in favor of the model_selection module into which all the refactored classes and functions are moved. Also note that the interface of the new CV iterators are different from that of this module. This module will be removed in 0.20.\n",
      "  \"This module will be removed in 0.20.\", DeprecationWarning)\n"
     ]
    }
   ],
   "source": [
    "import sys\n",
    "import pickle\n",
    "import pandas as pd\n",
    "sys.path.append(\"../tools/\")\n",
    "\n",
    "from feature_format import featureFormat, targetFeatureSplit\n",
    "from tester import dump_classifier_and_data\n",
    "\n",
    "### Load the dictionary containing the dataset\n",
    "with open(\"final_project_dataset.pkl\", \"r\") as data_file:\n",
    "    data_dict = pickle.load(data_file)\n",
    "    df = pd.DataFrame(data_dict).T"
   ]
  },
  {
   "cell_type": "markdown",
   "metadata": {},
   "source": [
    "####  Peek into Dataset"
   ]
  },
  {
   "cell_type": "code",
   "execution_count": 2,
   "metadata": {
    "collapsed": false
   },
   "outputs": [
    {
     "name": "stdout",
     "output_type": "stream",
     "text": [
      "<class 'pandas.core.frame.DataFrame'>\n",
      "Index: 146 entries, ALLEN PHILLIP K to YEAP SOON\n",
      "Data columns (total 21 columns):\n",
      "bonus                        146 non-null object\n",
      "deferral_payments            146 non-null object\n",
      "deferred_income              146 non-null object\n",
      "director_fees                146 non-null object\n",
      "email_address                146 non-null object\n",
      "exercised_stock_options      146 non-null object\n",
      "expenses                     146 non-null object\n",
      "from_messages                146 non-null object\n",
      "from_poi_to_this_person      146 non-null object\n",
      "from_this_person_to_poi      146 non-null object\n",
      "loan_advances                146 non-null object\n",
      "long_term_incentive          146 non-null object\n",
      "other                        146 non-null object\n",
      "poi                          146 non-null object\n",
      "restricted_stock             146 non-null object\n",
      "restricted_stock_deferred    146 non-null object\n",
      "salary                       146 non-null object\n",
      "shared_receipt_with_poi      146 non-null object\n",
      "to_messages                  146 non-null object\n",
      "total_payments               146 non-null object\n",
      "total_stock_value            146 non-null object\n",
      "dtypes: object(21)\n",
      "memory usage: 25.1+ KB\n"
     ]
    }
   ],
   "source": [
    "df.info()"
   ]
  },
  {
   "cell_type": "code",
   "execution_count": 3,
   "metadata": {
    "collapsed": false
   },
   "outputs": [
    {
     "data": {
      "text/plain": [
       "(146, 21)"
      ]
     },
     "execution_count": 3,
     "metadata": {},
     "output_type": "execute_result"
    }
   ],
   "source": [
    "df.shape"
   ]
  },
  {
   "cell_type": "code",
   "execution_count": 4,
   "metadata": {
    "collapsed": false
   },
   "outputs": [
    {
     "data": {
      "text/plain": [
       "Index([u'bonus', u'deferral_payments', u'deferred_income', u'director_fees',\n",
       "       u'email_address', u'exercised_stock_options', u'expenses',\n",
       "       u'from_messages', u'from_poi_to_this_person',\n",
       "       u'from_this_person_to_poi', u'loan_advances', u'long_term_incentive',\n",
       "       u'other', u'poi', u'restricted_stock', u'restricted_stock_deferred',\n",
       "       u'salary', u'shared_receipt_with_poi', u'to_messages',\n",
       "       u'total_payments', u'total_stock_value'],\n",
       "      dtype='object')"
      ]
     },
     "execution_count": 4,
     "metadata": {},
     "output_type": "execute_result"
    }
   ],
   "source": [
    "df.columns"
   ]
  },
  {
   "cell_type": "code",
   "execution_count": 5,
   "metadata": {
    "collapsed": false
   },
   "outputs": [
    {
     "data": {
      "text/html": [
       "<div>\n",
       "<table border=\"1\" class=\"dataframe\">\n",
       "  <thead>\n",
       "    <tr style=\"text-align: right;\">\n",
       "      <th></th>\n",
       "      <th>bonus</th>\n",
       "      <th>deferral_payments</th>\n",
       "      <th>deferred_income</th>\n",
       "      <th>director_fees</th>\n",
       "      <th>email_address</th>\n",
       "      <th>exercised_stock_options</th>\n",
       "      <th>expenses</th>\n",
       "      <th>from_messages</th>\n",
       "      <th>from_poi_to_this_person</th>\n",
       "      <th>from_this_person_to_poi</th>\n",
       "      <th>...</th>\n",
       "      <th>long_term_incentive</th>\n",
       "      <th>other</th>\n",
       "      <th>poi</th>\n",
       "      <th>restricted_stock</th>\n",
       "      <th>restricted_stock_deferred</th>\n",
       "      <th>salary</th>\n",
       "      <th>shared_receipt_with_poi</th>\n",
       "      <th>to_messages</th>\n",
       "      <th>total_payments</th>\n",
       "      <th>total_stock_value</th>\n",
       "    </tr>\n",
       "  </thead>\n",
       "  <tbody>\n",
       "    <tr>\n",
       "      <th>ALLEN PHILLIP K</th>\n",
       "      <td>4175000</td>\n",
       "      <td>2869717</td>\n",
       "      <td>-3081055</td>\n",
       "      <td>NaN</td>\n",
       "      <td>phillip.allen@enron.com</td>\n",
       "      <td>1729541</td>\n",
       "      <td>13868</td>\n",
       "      <td>2195</td>\n",
       "      <td>47</td>\n",
       "      <td>65</td>\n",
       "      <td>...</td>\n",
       "      <td>304805</td>\n",
       "      <td>152</td>\n",
       "      <td>False</td>\n",
       "      <td>126027</td>\n",
       "      <td>-126027</td>\n",
       "      <td>201955</td>\n",
       "      <td>1407</td>\n",
       "      <td>2902</td>\n",
       "      <td>4484442</td>\n",
       "      <td>1729541</td>\n",
       "    </tr>\n",
       "    <tr>\n",
       "      <th>BADUM JAMES P</th>\n",
       "      <td>NaN</td>\n",
       "      <td>178980</td>\n",
       "      <td>NaN</td>\n",
       "      <td>NaN</td>\n",
       "      <td>NaN</td>\n",
       "      <td>257817</td>\n",
       "      <td>3486</td>\n",
       "      <td>NaN</td>\n",
       "      <td>NaN</td>\n",
       "      <td>NaN</td>\n",
       "      <td>...</td>\n",
       "      <td>NaN</td>\n",
       "      <td>NaN</td>\n",
       "      <td>False</td>\n",
       "      <td>NaN</td>\n",
       "      <td>NaN</td>\n",
       "      <td>NaN</td>\n",
       "      <td>NaN</td>\n",
       "      <td>NaN</td>\n",
       "      <td>182466</td>\n",
       "      <td>257817</td>\n",
       "    </tr>\n",
       "    <tr>\n",
       "      <th>BANNANTINE JAMES M</th>\n",
       "      <td>NaN</td>\n",
       "      <td>NaN</td>\n",
       "      <td>-5104</td>\n",
       "      <td>NaN</td>\n",
       "      <td>james.bannantine@enron.com</td>\n",
       "      <td>4046157</td>\n",
       "      <td>56301</td>\n",
       "      <td>29</td>\n",
       "      <td>39</td>\n",
       "      <td>0</td>\n",
       "      <td>...</td>\n",
       "      <td>NaN</td>\n",
       "      <td>864523</td>\n",
       "      <td>False</td>\n",
       "      <td>1757552</td>\n",
       "      <td>-560222</td>\n",
       "      <td>477</td>\n",
       "      <td>465</td>\n",
       "      <td>566</td>\n",
       "      <td>916197</td>\n",
       "      <td>5243487</td>\n",
       "    </tr>\n",
       "    <tr>\n",
       "      <th>BAXTER JOHN C</th>\n",
       "      <td>1200000</td>\n",
       "      <td>1295738</td>\n",
       "      <td>-1386055</td>\n",
       "      <td>NaN</td>\n",
       "      <td>NaN</td>\n",
       "      <td>6680544</td>\n",
       "      <td>11200</td>\n",
       "      <td>NaN</td>\n",
       "      <td>NaN</td>\n",
       "      <td>NaN</td>\n",
       "      <td>...</td>\n",
       "      <td>1586055</td>\n",
       "      <td>2660303</td>\n",
       "      <td>False</td>\n",
       "      <td>3942714</td>\n",
       "      <td>NaN</td>\n",
       "      <td>267102</td>\n",
       "      <td>NaN</td>\n",
       "      <td>NaN</td>\n",
       "      <td>5634343</td>\n",
       "      <td>10623258</td>\n",
       "    </tr>\n",
       "    <tr>\n",
       "      <th>BAY FRANKLIN R</th>\n",
       "      <td>400000</td>\n",
       "      <td>260455</td>\n",
       "      <td>-201641</td>\n",
       "      <td>NaN</td>\n",
       "      <td>frank.bay@enron.com</td>\n",
       "      <td>NaN</td>\n",
       "      <td>129142</td>\n",
       "      <td>NaN</td>\n",
       "      <td>NaN</td>\n",
       "      <td>NaN</td>\n",
       "      <td>...</td>\n",
       "      <td>NaN</td>\n",
       "      <td>69</td>\n",
       "      <td>False</td>\n",
       "      <td>145796</td>\n",
       "      <td>-82782</td>\n",
       "      <td>239671</td>\n",
       "      <td>NaN</td>\n",
       "      <td>NaN</td>\n",
       "      <td>827696</td>\n",
       "      <td>63014</td>\n",
       "    </tr>\n",
       "  </tbody>\n",
       "</table>\n",
       "<p>5 rows × 21 columns</p>\n",
       "</div>"
      ],
      "text/plain": [
       "                      bonus deferral_payments deferred_income director_fees  \\\n",
       "ALLEN PHILLIP K     4175000           2869717        -3081055           NaN   \n",
       "BADUM JAMES P           NaN            178980             NaN           NaN   \n",
       "BANNANTINE JAMES M      NaN               NaN           -5104           NaN   \n",
       "BAXTER JOHN C       1200000           1295738        -1386055           NaN   \n",
       "BAY FRANKLIN R       400000            260455         -201641           NaN   \n",
       "\n",
       "                                 email_address exercised_stock_options  \\\n",
       "ALLEN PHILLIP K        phillip.allen@enron.com                 1729541   \n",
       "BADUM JAMES P                              NaN                  257817   \n",
       "BANNANTINE JAMES M  james.bannantine@enron.com                 4046157   \n",
       "BAXTER JOHN C                              NaN                 6680544   \n",
       "BAY FRANKLIN R             frank.bay@enron.com                     NaN   \n",
       "\n",
       "                   expenses from_messages from_poi_to_this_person  \\\n",
       "ALLEN PHILLIP K       13868          2195                      47   \n",
       "BADUM JAMES P          3486           NaN                     NaN   \n",
       "BANNANTINE JAMES M    56301            29                      39   \n",
       "BAXTER JOHN C         11200           NaN                     NaN   \n",
       "BAY FRANKLIN R       129142           NaN                     NaN   \n",
       "\n",
       "                   from_this_person_to_poi        ...         \\\n",
       "ALLEN PHILLIP K                         65        ...          \n",
       "BADUM JAMES P                          NaN        ...          \n",
       "BANNANTINE JAMES M                       0        ...          \n",
       "BAXTER JOHN C                          NaN        ...          \n",
       "BAY FRANKLIN R                         NaN        ...          \n",
       "\n",
       "                   long_term_incentive    other    poi restricted_stock  \\\n",
       "ALLEN PHILLIP K                 304805      152  False           126027   \n",
       "BADUM JAMES P                      NaN      NaN  False              NaN   \n",
       "BANNANTINE JAMES M                 NaN   864523  False          1757552   \n",
       "BAXTER JOHN C                  1586055  2660303  False          3942714   \n",
       "BAY FRANKLIN R                     NaN       69  False           145796   \n",
       "\n",
       "                   restricted_stock_deferred  salary shared_receipt_with_poi  \\\n",
       "ALLEN PHILLIP K                      -126027  201955                    1407   \n",
       "BADUM JAMES P                            NaN     NaN                     NaN   \n",
       "BANNANTINE JAMES M                   -560222     477                     465   \n",
       "BAXTER JOHN C                            NaN  267102                     NaN   \n",
       "BAY FRANKLIN R                        -82782  239671                     NaN   \n",
       "\n",
       "                   to_messages total_payments total_stock_value  \n",
       "ALLEN PHILLIP K           2902        4484442           1729541  \n",
       "BADUM JAMES P              NaN         182466            257817  \n",
       "BANNANTINE JAMES M         566         916197           5243487  \n",
       "BAXTER JOHN C              NaN        5634343          10623258  \n",
       "BAY FRANKLIN R             NaN         827696             63014  \n",
       "\n",
       "[5 rows x 21 columns]"
      ]
     },
     "execution_count": 5,
     "metadata": {},
     "output_type": "execute_result"
    }
   ],
   "source": [
    "df.head()"
   ]
  },
  {
   "cell_type": "markdown",
   "metadata": {},
   "source": [
    "####  Number of POI ,  Non-POI"
   ]
  },
  {
   "cell_type": "code",
   "execution_count": 6,
   "metadata": {
    "collapsed": false
   },
   "outputs": [
    {
     "data": {
      "text/plain": [
       "Counter({False: 128, True: 18})"
      ]
     },
     "execution_count": 6,
     "metadata": {},
     "output_type": "execute_result"
    }
   ],
   "source": [
    "from collections import Counter\n",
    "\n",
    "Counter(df.poi)"
   ]
  },
  {
   "cell_type": "markdown",
   "metadata": {},
   "source": [
    "#### Missing values"
   ]
  },
  {
   "cell_type": "code",
   "execution_count": 7,
   "metadata": {
    "collapsed": false
   },
   "outputs": [
    {
     "data": {
      "text/plain": [
       "bonus                         64\n",
       "deferral_payments            107\n",
       "deferred_income               97\n",
       "director_fees                129\n",
       "email_address                 35\n",
       "exercised_stock_options       44\n",
       "expenses                      51\n",
       "from_messages                 60\n",
       "from_poi_to_this_person       60\n",
       "from_this_person_to_poi       60\n",
       "loan_advances                142\n",
       "long_term_incentive           80\n",
       "other                         53\n",
       "poi                            0\n",
       "restricted_stock              36\n",
       "restricted_stock_deferred    128\n",
       "salary                        51\n",
       "shared_receipt_with_poi       60\n",
       "to_messages                   60\n",
       "total_payments                21\n",
       "total_stock_value             20\n",
       "dtype: int64"
      ]
     },
     "execution_count": 7,
     "metadata": {},
     "output_type": "execute_result"
    }
   ],
   "source": [
    "import numpy as np\n",
    "df = df.replace('NaN', np.nan)\n",
    "df.isnull().sum()"
   ]
  },
  {
   "cell_type": "markdown",
   "metadata": {},
   "source": [
    "*** There are too much missing values in restricted_stock_deferred, director_fees,deferral_payments, loan_advances. ***\n",
    "##  Select Features\n",
    "\n",
    "First, I removed features which have a lot of missing values."
   ]
  },
  {
   "cell_type": "code",
   "execution_count": 8,
   "metadata": {
    "collapsed": false,
    "scrolled": true
   },
   "outputs": [],
   "source": [
    "### Task 1: Select what features you'll use.\n",
    "### features_list is a list of strings, each of which is a feature name.\n",
    "### The first feature must be \"poi\".\n",
    "\n",
    "features_list = ['poi','salary', 'bonus', 'total_payments', 'long_term_incentive', 'deferred_income',\n",
    "                      'total_stock_value', 'restricted_stock', 'exercised_stock_options', 'expenses', 'other',\n",
    "                'to_messages', 'from_poi_to_this_person', 'from_messages', 'from_this_person_to_poi']\n",
    "\n",
    "enron = df[features_list].copy()"
   ]
  },
  {
   "cell_type": "markdown",
   "metadata": {},
   "source": [
    "##  Remove outliers"
   ]
  },
  {
   "cell_type": "code",
   "execution_count": 9,
   "metadata": {
    "collapsed": false
   },
   "outputs": [
    {
     "data": {
      "image/png": "[encoded data removed]",
      "text/plain": [
       "<matplotlib.figure.Figure at 0x10e95a990>"
      ]
     },
     "metadata": {},
     "output_type": "display_data"
    }
   ],
   "source": [
    "### Task 2: Remove outliers\n",
    "import matplotlib.pyplot as plt\n",
    "%matplotlib inline \n",
    "fig, ax = plt.subplots(figsize=(10,6))\n",
    "plt.scatter(enron.salary, enron.bonus)\n",
    "plt.xlabel('Salary')\n",
    "plt.ylabel('Bonus')\n",
    "plt.title('Scatter plot ( Salary vs Bonus)')\n",
    "plt.show()"
   ]
  },
  {
   "cell_type": "markdown",
   "metadata": {},
   "source": [
    "As we can see a scatter plot there is on huge outlier.   \n",
    "Let's check what it is."
   ]
  },
  {
   "cell_type": "code",
   "execution_count": 10,
   "metadata": {
    "collapsed": false
   },
   "outputs": [
    {
     "data": {
      "text/plain": [
       "'TOTAL'"
      ]
     },
     "execution_count": 10,
     "metadata": {},
     "output_type": "execute_result"
    }
   ],
   "source": [
    "enron.salary.argmax()"
   ]
  },
  {
   "cell_type": "code",
   "execution_count": 11,
   "metadata": {
    "collapsed": false
   },
   "outputs": [],
   "source": [
    "enron = enron.drop('TOTAL')"
   ]
  },
  {
   "cell_type": "markdown",
   "metadata": {},
   "source": [
    "Drop 'TOTAL' and then draw scatter plot again"
   ]
  },
  {
   "cell_type": "code",
   "execution_count": 12,
   "metadata": {
    "collapsed": false
   },
   "outputs": [
    {
     "data": {
      "image/png": "[encoded data removed]",
      "text/plain": [
       "<matplotlib.figure.Figure at 0x1148315d0>"
      ]
     },
     "metadata": {},
     "output_type": "display_data"
    }
   ],
   "source": [
    "fig, ax = plt.subplots(figsize=(9,6))\n",
    "plt.scatter(enron.salary[enron.poi==1], enron.bonus[enron.poi==1],c='red',label='poi')\n",
    "plt.scatter(enron.salary[enron.poi==0], enron.bonus[enron.poi==0],c='skyblue',label='non-poi')\n",
    "plt.xlabel('Salary')\n",
    "plt.ylabel('Bonus')\n",
    "plt.title('Scatter plot ( Salary vs Bonus)')\n",
    "plt.legend(loc='lower right')\n",
    "plt.show()"
   ]
  },
  {
   "cell_type": "markdown",
   "metadata": {},
   "source": [
    "##  Create New Features\n",
    "\n",
    "I made new features fraction of message from poi and fraction of message to poi.  \n",
    "Let's check new featrues by drawing scatter plot."
   ]
  },
  {
   "cell_type": "code",
   "execution_count": 13,
   "metadata": {
    "collapsed": false
   },
   "outputs": [
    {
     "data": {
      "text/plain": [
       "<matplotlib.legend.Legend at 0x114ba8550>"
      ]
     },
     "execution_count": 13,
     "metadata": {},
     "output_type": "execute_result"
    },
    {
     "data": {
      "image/png": "[encoded data removed]",
      "text/plain": [
       "<matplotlib.figure.Figure at 0x114a2ce90>"
      ]
     },
     "metadata": {},
     "output_type": "display_data"
    }
   ],
   "source": [
    "enron['fraction_from_poi'] = enron.from_poi_to_this_person / enron.to_messages\n",
    "enron['fraction_to_poi'] = enron.from_this_person_to_poi / enron.from_messages\n",
    "fig, ax = plt.subplots(figsize=(9,6))\n",
    "plt.scatter(enron.fraction_to_poi[enron.poi == 1], enron.fraction_from_poi[enron.poi == 1],c='red',alpha=0.8,label='poi')\n",
    "plt.scatter(enron.fraction_to_poi[enron.poi == 0], enron.fraction_from_poi[enron.poi == 0],c='skyblue', alpha=0.5, label='non-poi')\n",
    "plt.legend(loc='upper right')\n"
   ]
  },
  {
   "cell_type": "markdown",
   "metadata": {},
   "source": [
    "There is no distinct pattern, but their fraction are higher than ohters.   \n",
    "*** before extracting features, let's clean some features. ***"
   ]
  },
  {
   "cell_type": "code",
   "execution_count": 14,
   "metadata": {
    "collapsed": false
   },
   "outputs": [
    {
     "data": {
      "text/plain": [
       "{'bonus': 97343619,\n",
       " 'deferral_payments': 32083396,\n",
       " 'deferred_income': -27992891,\n",
       " 'director_fees': 1398517,\n",
       " 'email_address': 'NaN',\n",
       " 'exercised_stock_options': 311764000,\n",
       " 'expenses': 5235198,\n",
       " 'fraction_from_poi': 'NaN',\n",
       " 'fraction_to_poi': 'NaN',\n",
       " 'from_messages': 'NaN',\n",
       " 'from_poi_to_this_person': 'NaN',\n",
       " 'from_this_person_to_poi': 'NaN',\n",
       " 'loan_advances': 83925000,\n",
       " 'long_term_incentive': 48521928,\n",
       " 'other': 42667589,\n",
       " 'poi': False,\n",
       " 'restricted_stock': 130322299,\n",
       " 'restricted_stock_deferred': -7576788,\n",
       " 'salary': 26704229,\n",
       " 'shared_receipt_with_poi': 'NaN',\n",
       " 'to_messages': 'NaN',\n",
       " 'total_payments': 309886585,\n",
       " 'total_stock_value': 434509511}"
      ]
     },
     "execution_count": 14,
     "metadata": {},
     "output_type": "execute_result"
    }
   ],
   "source": [
    "for name in data_dict:\n",
    "    \n",
    "    data_point = data_dict[name]\n",
    "\n",
    "    from_poi_to_this_person = data_point[\"from_poi_to_this_person\"]\n",
    "    to_messages = data_point[\"to_messages\"]\n",
    "    \n",
    "    from_this_person_to_poi = data_point[\"from_this_person_to_poi\"]\n",
    "    from_messages = data_point[\"from_messages\"]\n",
    "   \n",
    "    if from_poi_to_this_person == 'NaN' or to_messages == 'NaN' :\n",
    "        data_point[\"fraction_from_poi\"] = \"NaN\"\n",
    "    else :\n",
    "        fraction_from_poi = float(from_poi_to_this_person) / float(to_messages)\n",
    "        data_point[\"fraction_from_poi\"] = fraction_from_poi\n",
    "    \n",
    "    if from_this_person_to_poi == 'NaN' or from_messages == 'NaN' :\n",
    "        data_point['fraction_to_poi'] = \"NaN\"\n",
    "    else :\n",
    "        fraction_to_poi = float(from_this_person_to_poi) / float(from_messages)\n",
    "        data_point[\"fraction_to_poi\"] = fraction_to_poi\n",
    "data_dict.pop('TOTAL')"
   ]
  },
  {
   "cell_type": "markdown",
   "metadata": {},
   "source": [
    "Now, let's extract features.  \n",
    "***  Add new features and remove features which were reduntant features. ***"
   ]
  },
  {
   "cell_type": "code",
   "execution_count": 15,
   "metadata": {
    "collapsed": false
   },
   "outputs": [],
   "source": [
    "### Task 3: Create new feature(s)\n",
    "### Store to my_dataset for easy export below.\n",
    "\n",
    "from sklearn.cross_validation import train_test_split\n",
    "\n",
    "my_dataset = data_dict\n",
    "\n",
    "features_list += ['fraction_from_poi','fraction_to_poi']\n",
    "remove_list = ['to_messages','from_messages','from_poi_to_this_person','from_this_person_to_poi']\n",
    "\n",
    "for x in remove_list :\n",
    "    features_list.remove(x)\n",
    "\n",
    "### Extract features and labels from dataset for local testing\n",
    "data = featureFormat(my_dataset, features_list, sort_keys = True)\n",
    "labels, features = targetFeatureSplit(data)"
   ]
  },
  {
   "cell_type": "markdown",
   "metadata": {},
   "source": [
    "*** Now, Let's split dataset to train and test ***"
   ]
  },
  {
   "cell_type": "code",
   "execution_count": 16,
   "metadata": {
    "collapsed": false
   },
   "outputs": [],
   "source": [
    "from sklearn.ensemble import RandomForestClassifier\n",
    "X_train, X_test, y_train, y_test = train_test_split(features, labels, test_size=0.3, random_state=42)"
   ]
  },
  {
   "cell_type": "markdown",
   "metadata": {},
   "source": [
    "####  Check feature importances"
   ]
  },
  {
   "cell_type": "code",
   "execution_count": 17,
   "metadata": {
    "collapsed": false
   },
   "outputs": [
    {
     "name": "stdout",
     "output_type": "stream",
     "text": [
      "Accuracy: 0.909090909091\n",
      "Features Importances\n",
      " 1) bonus                          0.139120\n",
      " 2) fraction_to_poi                0.127026\n",
      " 3) expenses                       0.095522\n",
      " 4) exercised_stock_options        0.082826\n",
      " 5) restricted_stock               0.079379\n",
      " 6) total_payments                 0.076054\n",
      " 7) other                          0.075824\n",
      " 8) total_stock_value              0.069795\n",
      " 9) salary                         0.069440\n",
      "10) deferred_income                0.068901\n",
      "11) long_term_incentive            0.066652\n",
      "12) fraction_from_poi              0.049460\n"
     ]
    }
   ],
   "source": [
    "features_name = features_list[1:]\n",
    "forest = RandomForestClassifier(n_estimators=10000, random_state=0, n_jobs = -1)\n",
    "forest.fit(X_train, y_train)\n",
    "importances = forest.feature_importances_\n",
    "indices = np.argsort(importances)[::-1]\n",
    "\n",
    "print \"Accuracy:\", forest.score(X_test,y_test)\n",
    "print \"Features Importances\"\n",
    "for f in range(len(indices)) :\n",
    "    print \"%2d) %-*s %f\" %(f+1, 30, features_name[indices[f]], importances[indices[f]] )"
   ]
  },
  {
   "cell_type": "code",
   "execution_count": 18,
   "metadata": {
    "collapsed": false
   },
   "outputs": [
    {
     "data": {
      "image/png": "[encoded data removed]",
      "text/plain": [
       "<matplotlib.figure.Figure at 0x115afed90>"
      ]
     },
     "metadata": {},
     "output_type": "display_data"
    }
   ],
   "source": [
    "features_name = np.array(features_name)\n",
    "fig, ax = plt.subplots(figsize=(10,5))\n",
    "plt.title('Feature Importances')\n",
    "plt.bar(range(len(X_train[0])), importances[indices], color = 'lightblue', align='center')\n",
    "plt.xticks(range(len(features_name)),features_name[indices],rotation = 90)\n",
    "plt.xlim([-1,len(X_train[0])])\n",
    "plt.tight_layout()\n",
    "plt.show()"
   ]
  },
  {
   "cell_type": "markdown",
   "metadata": {},
   "source": [
    "## Varity of classifiers"
   ]
  },
  {
   "cell_type": "code",
   "execution_count": 33,
   "metadata": {
    "collapsed": false
   },
   "outputs": [
    {
     "name": "stdout",
     "output_type": "stream",
     "text": [
      "----------------------------------------------------\n",
      "GaussianNB \n",
      "             precision    recall  f1-score   support\n",
      "\n",
      "        0.0       0.92      0.92      0.92        39\n",
      "        1.0       0.40      0.40      0.40         5\n",
      "\n",
      "avg / total       0.86      0.86      0.86        44\n",
      "\n",
      "Accuracy : 0.863636363636\n",
      "----------------------------------------------------\n",
      "LogisticRegression \n",
      "             precision    recall  f1-score   support\n",
      "\n",
      "        0.0       0.92      0.95      0.94        38\n",
      "        1.0       0.60      0.50      0.55         6\n",
      "\n",
      "avg / total       0.88      0.89      0.88        44\n",
      "\n",
      "Accuracy : 0.886363636364\n",
      "----------------------------------------------------\n",
      "SVM \n",
      "             precision    recall  f1-score   support\n",
      "\n",
      "        0.0       1.00      0.89      0.94        44\n",
      "        1.0       0.00      0.00      0.00         0\n",
      "\n",
      "avg / total       1.00      0.89      0.94        44\n",
      "\n",
      "Accuracy : 0.886363636364\n",
      "----------------------------------------------------\n",
      "KNN \n",
      "             precision    recall  f1-score   support\n",
      "\n",
      "        0.0       0.97      0.93      0.95        41\n",
      "        1.0       0.40      0.67      0.50         3\n",
      "\n",
      "avg / total       0.94      0.91      0.92        44\n",
      "\n",
      "Accuracy : 0.909090909091\n",
      "----------------------------------------------------\n",
      "AdaBoost \n",
      "             precision    recall  f1-score   support\n",
      "\n",
      "        0.0       0.95      0.90      0.92        41\n",
      "        1.0       0.20      0.33      0.25         3\n",
      "\n",
      "avg / total       0.90      0.86      0.88        44\n",
      "\n",
      "Accuracy : 0.863636363636\n"
     ]
    }
   ],
   "source": [
    "### Task 4: Try a varity of classifiers\n",
    "### Please name your classifier clf for easy export below.\n",
    "### Note that if you want to do PCA or other multi-stage operations,\n",
    "### you'll need to use Pipelines. For more info:\n",
    "### http://scikit-learn.org/stable/modules/pipeline.html\n",
    "\n",
    "# Provided to give you a starting point. Try a variety of classifiers.\n",
    "\n",
    "from sklearn.naive_bayes import GaussianNB\n",
    "from sklearn.linear_model import LogisticRegression\n",
    "from sklearn.svm import SVC\n",
    "from sklearn.neighbors import KNeighborsClassifier\n",
    "from sklearn.ensemble import AdaBoostClassifier\n",
    "from sklearn.metrics import classification_report\n",
    "from sklearn.pipeline import Pipeline\n",
    "from sklearn.preprocessing import StandardScaler\n",
    "from sklearn.tree import DecisionTreeClassifier\n",
    "# from sklearn.metrics import cross_val_score\n",
    "clf_list = ['GaussianNB','LogisticRegression','SVM','KNN','AdaBoost']\n",
    "tree = DecisionTreeClassifier(criterion='entropy', max_depth=None, random_state=0)\n",
    "\n",
    "clf1 = GaussianNB()\n",
    "clf2 = LogisticRegression(penalty='l2', C=0.001)\n",
    "clf3 = SVC(kernel='rbf',C=10000)\n",
    "clf4 = KNeighborsClassifier(n_neighbors=3)\n",
    "clf5 = AdaBoostClassifier(base_estimator=tree,\n",
    "                         n_estimators=1000,\n",
    "                         learning_rate=0.01,\n",
    "                         random_state=0)\n",
    "pipe2 = Pipeline([['sc',StandardScaler()],\n",
    "                  ['clf',clf2]])\n",
    "\n",
    "pipe3 = Pipeline([['sc',StandardScaler()],\n",
    "                  ['clf',clf5]])\n",
    "\n",
    "\n",
    "for clf, label in zip([clf1,pipe2,clf3,clf4,clf5],clf_list) :\n",
    "    clf.fit(X_train,y_train)\n",
    "    scores = classification_report(clf.predict(X_test),y_test)\n",
    "    print '--------------------------'*2\n",
    "    print label,'\\n',scores\n",
    "    print \"Accuracy :\",clf.score(X_test,y_test)\n",
    "   \n",
    "\n"
   ]
  },
  {
   "cell_type": "markdown",
   "metadata": {},
   "source": [
    "##  Parameter Tuning"
   ]
  },
  {
   "cell_type": "code",
   "execution_count": 20,
   "metadata": {
    "collapsed": false
   },
   "outputs": [
    {
     "name": "stderr",
     "output_type": "stream",
     "text": [
      "/Users/watseob/anaconda/envs/gl-env/lib/python2.7/site-packages/sklearn/learning_curve.py:23: DeprecationWarning: This module was deprecated in version 0.18 in favor of the model_selection module into which all the functions are moved. This module will be removed in 0.20\n",
      "  DeprecationWarning)\n",
      "/Users/watseob/anaconda/envs/gl-env/lib/python2.7/site-packages/sklearn/grid_search.py:43: DeprecationWarning: This module was deprecated in version 0.18 in favor of the model_selection module into which all the refactored classes and functions are moved. This module will be removed in 0.20.\n",
      "  DeprecationWarning)\n"
     ]
    },
    {
     "name": "stdout",
     "output_type": "stream",
     "text": [
      "             precision    recall  f1-score   support\n",
      "\n",
      "        0.0       0.98      0.90      0.94       136\n",
      "        1.0       0.28      0.62      0.38         8\n",
      "\n",
      "avg / total       0.94      0.89      0.91       144\n",
      "\n",
      "0.861333333333\n",
      "Pipeline(steps=[['sc', StandardScaler(copy=True, with_mean=True, with_std=True)], ['clf', LogisticRegression(C=0.1, class_weight=None, dual=False, fit_intercept=True,\n",
      "          intercept_scaling=1, max_iter=100, multi_class='ovr', n_jobs=1,\n",
      "          penalty='l2', random_state=None, solver='liblinear', tol=0.0001,\n",
      "          verbose=0, warm_start=False)]])\n"
     ]
    }
   ],
   "source": [
    "### Task 5: Tune your classifier to achieve better than .3 precision and recall\n",
    "### using our testing script. Check the tester.py script in the final project\n",
    "### folder for details on the evaluation method, especially the test_classifier\n",
    "### function. Because of the small size of the dataset, the script uses\n",
    "### stratified shuffle split cross validation. For more info:\n",
    "### http://scikit-learn.org/stable/modules/generated/sklearn.cross_validation.StratifiedShuffleSplit.html\n",
    "\n",
    "# Example starting point. Try investigating other evaluation techniques!\n",
    "\n",
    "from sklearn.cross_validation import StratifiedShuffleSplit\n",
    "from sklearn.learning_curve import learning_curve\n",
    "from sklearn.grid_search import GridSearchCV\n",
    "from sklearn.metrics import recall_score, f1_score\n",
    "cv = StratifiedShuffleSplit(labels, 100, random_state = 42)\n",
    "\n",
    "param_range=[0.000001,0.00001, 0.0001, 0.001, 0.01, 0.1, 1.0]\n",
    "\n",
    "param_grid=[{'clf__C':param_range}]\n",
    "\n",
    "gs_Logistic = GridSearchCV(estimator=pipe2,\n",
    "                   param_grid=param_grid,\n",
    "                   scoring='accuracy',\n",
    "                   cv=cv,\n",
    "                   n_jobs=-1)\n",
    "\n",
    "gs_Logistic = gs_Logistic.fit(features, labels)\n",
    "pred = gs_Logistic.predict(features)\n",
    "print classification_report(pred, labels)\n",
    "print(gs_Logistic.best_score_)\n",
    "print gs_Logistic.best_estimator_"
   ]
  },
  {
   "cell_type": "code",
   "execution_count": 34,
   "metadata": {
    "collapsed": false
   },
   "outputs": [
    {
     "name": "stdout",
     "output_type": "stream",
     "text": [
      "             precision    recall  f1-score   support\n",
      "\n",
      "        0.0       1.00      0.91      0.95       139\n",
      "        1.0       0.28      1.00      0.43         5\n",
      "\n",
      "avg / total       0.97      0.91      0.93       144\n",
      "\n",
      "0.880666666667\n",
      "Pipeline(steps=[('scl', StandardScaler(copy=True, with_mean=True, with_std=True)), ('clf', SVC(C=0.1, cache_size=200, class_weight=None, coef0=0.0,\n",
      "  decision_function_shape=None, degree=3, gamma='auto', kernel='linear',\n",
      "  max_iter=-1, probability=False, random_state=1, shrinking=True,\n",
      "  tol=0.001, verbose=False))])\n",
      "0.931818181818\n"
     ]
    },
    {
     "name": "stderr",
     "output_type": "stream",
     "text": [
      "/Users/watseob/anaconda/envs/gl-env/lib/python2.7/site-packages/sklearn/grid_search.py:438: ChangedBehaviorWarning: The long-standing behavior to use the estimator's score function in GridSearchCV.score has changed. The scoring parameter is now used.\n",
      "  ChangedBehaviorWarning)\n"
     ]
    }
   ],
   "source": [
    "\n",
    "pipe_svc = Pipeline([('scl', StandardScaler()),\n",
    "                     ('clf', SVC(random_state=1))])\n",
    "param_range=[ 0.01, 0.1, 1.0, 10.0, 100.0, 1000.0]\n",
    "g_range=[]\n",
    "param_grid=[{'clf__C':param_range,\n",
    "             'clf__kernel':['linear']},\n",
    "            {'clf__C':param_range,\n",
    "             'clf__gamma':param_range,\n",
    "             'clf__kernel':['rbf']}]\n",
    "\n",
    "gs_SVM = GridSearchCV(estimator=pipe_svc,\n",
    "                 param_grid=param_grid,\n",
    "                 scoring='accuracy',\n",
    "                 cv=cv,\n",
    "                 n_jobs=-1)\n",
    "\n",
    "gs_SVM.fit(features, labels)\n",
    "pred = gs_SVM.predict(features)\n",
    "\n",
    "print classification_report(pred, labels)\n",
    "print gs_SVM.best_score_\n",
    "print gs_SVM.best_estimator_\n",
    "print gs_SVM.score(X_test,y_test)"
   ]
  },
  {
   "cell_type": "code",
   "execution_count": 22,
   "metadata": {
    "collapsed": false
   },
   "outputs": [
    {
     "name": "stdout",
     "output_type": "stream",
     "text": [
      "             precision    recall  f1-score   support\n",
      "\n",
      "        0.0       0.98      0.89      0.93       140\n",
      "        1.0       0.11      0.50      0.18         4\n",
      "\n",
      "avg / total       0.96      0.88      0.91       144\n",
      "\n",
      "0.87\n",
      "Pipeline(steps=[('scl', StandardScaler(copy=True, with_mean=True, with_std=True)), ('clf', KNeighborsClassifier(algorithm='auto', leaf_size=30, metric='minkowski',\n",
      "           metric_params=None, n_jobs=1, n_neighbors=5, p=2,\n",
      "           weights='uniform'))])\n"
     ]
    }
   ],
   "source": [
    "pipe_knn = Pipeline([('scl', StandardScaler()),\n",
    "                     ('clf', KNeighborsClassifier())])\n",
    "\n",
    "param_range=[1,3,5,7]\n",
    "\n",
    "param_grid=[{'clf__n_neighbors':param_range}]\n",
    "\n",
    "gs_KNN = GridSearchCV(estimator=pipe_knn,\n",
    "                      param_grid=param_grid,\n",
    "                      scoring='accuracy',\n",
    "                      cv=cv,\n",
    "                      n_jobs=-1)\n",
    "gs_KNN.fit(features, labels)\n",
    "pred = gs_KNN.predict(features)\n",
    "\n",
    "print classification_report(pred,labels)\n",
    "print gs_KNN.best_score_\n",
    "print gs_KNN.best_estimator_"
   ]
  },
  {
   "cell_type": "code",
   "execution_count": 23,
   "metadata": {
    "collapsed": false
   },
   "outputs": [],
   "source": [
    "### Task 6: Dump your classifier, dataset, and features_list so anyone can\n",
    "### check your results. You do not need to change anything below, but make sure\n",
    "### that the version of poi_id.py that you submit can be run on its own and\n",
    "### generates the necessary .pkl files for validating your results.\n",
    "\n",
    "dump_classifier_and_data(clf, my_dataset, features_list)"
   ]
  }
 ],
 "metadata": {
  "anaconda-cloud": {},
  "kernelspec": {
   "display_name": "Python [conda env:gl-env]",
   "language": "python",
   "name": "conda-env-gl-env-py"
  },
  "language_info": {
   "codemirror_mode": {
    "name": "ipython",
    "version": 2
   },
   "file_extension": ".py",
   "mimetype": "text/x-python",
   "name": "python",
   "nbconvert_exporter": "python",
   "pygments_lexer": "ipython2",
   "version": "2.7.11"
  }
 },
 "nbformat": 4,
 "nbformat_minor": 1
}
